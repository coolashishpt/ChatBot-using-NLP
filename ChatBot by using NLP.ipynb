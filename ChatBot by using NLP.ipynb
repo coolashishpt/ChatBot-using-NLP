{
 "cells": [
  {
   "cell_type": "code",
   "execution_count": 38,
   "metadata": {},
   "outputs": [],
   "source": [
    "import pandas as pd\n",
    "import numpy as np\n",
    "from sklearn import datasets as skd\n",
    "import os\n",
    "import spacy.lang.pt\n",
    "import nltk\n",
    "from sklearn.feature_extraction.text import TfidfVectorizer\n",
    "from sklearn.metrics.pairwise import cosine_similarity\n",
    "import string\n",
    "import io\n",
    "import random\n",
    "from nltk.stem import WordNetLemmatizer"
   ]
  },
  {
   "cell_type": "code",
   "execution_count": 39,
   "metadata": {},
   "outputs": [
    {
     "data": {
      "text/plain": [
       "True"
      ]
     },
     "execution_count": 39,
     "metadata": {},
     "output_type": "execute_result"
    }
   ],
   "source": [
    "nltk.download('popular', quiet=True)"
   ]
  },
  {
   "cell_type": "code",
   "execution_count": 40,
   "metadata": {},
   "outputs": [
    {
     "data": {
      "text/plain": [
       "['nba', 'olympics', 'sports']"
      ]
     },
     "execution_count": 40,
     "metadata": {},
     "output_type": "execute_result"
    }
   ],
   "source": [
    "info_category = os.listdir('ChatBot_data/')\n",
    "info_category"
   ]
  },
  {
   "cell_type": "code",
   "execution_count": 41,
   "metadata": {},
   "outputs": [
    {
     "data": {
      "text/plain": [
       "dict_keys(['data', 'filenames', 'target_names', 'target', 'DESCR'])"
      ]
     },
     "execution_count": 41,
     "metadata": {},
     "output_type": "execute_result"
    }
   ],
   "source": [
    "info = skd.load_files(r\"ChatBot_data\", categories=info_category, shuffle= True, encoding= \"ISO-8859-1\")\n",
    "info.keys()"
   ]
  },
  {
   "cell_type": "code",
   "execution_count": 42,
   "metadata": {},
   "outputs": [],
   "source": [
    "# Selecting features \n",
    "x = info.data\n",
    "\n",
    "# Target Value\n",
    "y = info.target"
   ]
  },
  {
   "cell_type": "code",
   "execution_count": null,
   "metadata": {},
   "outputs": [],
   "source": []
  },
  {
   "cell_type": "code",
   "execution_count": 48,
   "metadata": {},
   "outputs": [],
   "source": [
    "# CountVectorize\n",
    "from sklearn.feature_extraction.text import CountVectorizer\n",
    "count_vector =  CountVectorizer()\n",
    "count_vectorised = count_vector.fit_transform(x)"
   ]
  },
  {
   "cell_type": "code",
   "execution_count": 49,
   "metadata": {},
   "outputs": [],
   "source": [
    "# TfdifTransform\n",
    "from sklearn.feature_extraction.text import TfidfTransformer\n",
    "tfidf_trans = TfidfTransformer()\n",
    "tfidf_transformed = tfidf_trans.fit_transform(count_vectorised)"
   ]
  },
  {
   "cell_type": "code",
   "execution_count": 50,
   "metadata": {},
   "outputs": [
    {
     "data": {
      "text/plain": [
       "MultinomialNB(alpha=1.0, class_prior=None, fit_prior=True)"
      ]
     },
     "execution_count": 50,
     "metadata": {},
     "output_type": "execute_result"
    }
   ],
   "source": [
    "# Applying an classifier\n",
    "from sklearn.naive_bayes import MultinomialNB\n",
    "model = MultinomialNB()\n",
    "model.fit(tfidf_transformed, y)"
   ]
  },
  {
   "cell_type": "code",
   "execution_count": null,
   "metadata": {},
   "outputs": [],
   "source": []
  },
  {
   "cell_type": "code",
   "execution_count": 51,
   "metadata": {},
   "outputs": [],
   "source": [
    "# Prediction for new text\n",
    "def prediction(text):\n",
    "    new_text = [text]\n",
    "    new_count_vector = count_vector.transform(new_text)\n",
    "    pred = model.predict(new_count_vector)\n",
    "    category = pred[0]\n",
    "    return category"
   ]
  },
  {
   "cell_type": "code",
   "execution_count": 52,
   "metadata": {},
   "outputs": [
    {
     "data": {
      "text/plain": [
       "0"
      ]
     },
     "execution_count": 52,
     "metadata": {},
     "output_type": "execute_result"
    }
   ],
   "source": [
    "prediction(\"\")"
   ]
  },
  {
   "cell_type": "code",
   "execution_count": 53,
   "metadata": {},
   "outputs": [],
   "source": [
    "# def my_fun(text):\n",
    "#     a = prediction(text)\n",
    "#     raw = x[a].lower()\n",
    "#     return raw\n",
    "def sentance_tokenize(text):\n",
    "    a = prediction(text)\n",
    "    raw = x[a].lower()\n",
    "    sent_tokens = nltk.sent_tokenize(raw)\n",
    "    return sent_tokens\n",
    "\n",
    "\n",
    "def word_tokenize(raw):\n",
    "    a = prediction(text)\n",
    "    raw = x[a].lower()\n",
    "    word_tokens = nltk.word_tokenize(raw)\n",
    "    return word_tokens"
   ]
  },
  {
   "cell_type": "code",
   "execution_count": 54,
   "metadata": {},
   "outputs": [
    {
     "data": {
      "text/plain": [
       "['national basketball association\\r\\nfrom wikipedia, the free encyclopedia\\r\\njump to navigationjump to search\\r\\n\"nba\" redirects here.',\n",
       " 'for other uses, see nba (disambiguation).',\n",
       " 'national basketball association (nba)\\r\\ncurrent season, competition or edition:\\r\\ncurrent sports event 2019â\\x80\\x9320 nba season\\r\\nnational basketball association logo.svg\\r\\nsport\\tbasketball\\r\\nfounded\\tjune 6, 1946; 73 years ago\\r\\n(as baa),\\r\\nnew york city, new york, united states[1]\\r\\ninaugural season\\t1946â\\x80\\x9347\\r\\ncommissioner\\tadam silver\\r\\nno.',\n",
       " \"of teams\\t30\\r\\ncountries\\tunited states (29 teams)\\r\\ncanada (1 team)\\r\\nheadquarters\\tnew york city\\r\\nmost recent\\r\\nchampion(s)\\ttoronto raptors\\r\\n(1st title)\\r\\nmost titles\\tboston celtics (17 titles)\\r\\ntv partner(s)\\tunited states:\\r\\nabc/espn\\r\\nnba tv\\r\\ntnt\\r\\ncanada:\\r\\n\\r\\nnba tv canada\\r\\ntsn/tsn2\\r\\nsportsnet/sportsnet one\\r\\nofficial website\\tnba.com\\r\\nthe national basketball association (nba) is a men's professional basketball league in north america, composed of 30 teams (29 in the united states and 1 in canada).\",\n",
       " \"it is one of the four major professional sports leagues in the united states and canada, and is widely considered to be the premier men's professional basketball league in the world.\",\n",
       " '[2][better source needed]\\r\\n\\r\\nthe league was founded in new york city on june 6, 1946, as the basketball association of america (baa).',\n",
       " '[1][3] it changed its name to the national basketball association on august 3, 1949, after merging with the competing national basketball league (nbl).',\n",
       " \"the nba's regular season runs from october to april, with each team playing 82 games.\",\n",
       " 'its playoffs extend into june.',\n",
       " \"as of 2015, nba players are the world's best paid athletes by average annual salary per player.\",\n",
       " '[4][5]\\r\\n\\r\\nthe nba is an active member of usa basketball (usab),[6] which is recognized by fiba (also known as the international basketball federation) as the national governing body for basketball in the united states.',\n",
       " \"the league's several international as well as individual team offices are directed out of its head offices in midtown manhattan, while its nba entertainment and nba tv studios are directed out of offices located in secaucus, new jersey.\",\n",
       " 'history\\r\\ncreation and baaâ\\x80\\x93nbl merger (1946â\\x80\\x931956)\\r\\nmain article: basketball association of america\\r\\nthe basketball association of america was founded in 1946 by owners of the major ice hockey arenas in the northeastern and midwestern united states and canada.',\n",
       " 'on november 1, 1946, in toronto, ontario, canada, the toronto huskies hosted the new york knickerbockers at maple leaf gardens, in a game the nba now refers to as the first game played in nba history.',\n",
       " '[7] the first basket was made by ossie schectman of the knickerbockers.',\n",
       " 'although there had been earlier attempts at professional basketball leagues, including the american basketball league and the nbl, the baa was the first league to attempt to play primarily in large arenas in major cities.',\n",
       " 'during its early years, the quality of play in the baa was not significantly better than in competing leagues or among leading independent clubs such as the harlem globetrotters.',\n",
       " \"for instance, the 1948 abl finalist baltimore bullets moved to the baa and won that league's 1948 title, and the 1948 nbl champion minneapolis lakers won the 1949 baa title.\",\n",
       " 'prior to the 1948â\\x80\\x9349 season, however, nbl teams from fort wayne, indianapolis, minneapolis, and rochester jumped to the baa, which established the baa as the league of choice for collegians looking to turn professional.',\n",
       " '[8]\\r\\n\\r\\non august 3, 1949, the remaining nbl teamsâ\\x80\\x93syracuse, anderson, tri-cities, sheboygan, denver, and waterlooâ\\x80\\x93merged into the baa.',\n",
       " \"in deference to the merger and to avoid possible legal complications, the league name was changed to the present national basketball association, even though the merged league retained the baa's governing body, including maurice podoloff as president.\",\n",
       " \"[8] to this day, the nba claims the baa's history as its own.\",\n",
       " 'it now reckons the arrival of the nbl teams as an expansion, not a merger, and does not recognize nbl records and statistics.',\n",
       " 'the new league had seventeen franchises located in a mix of large and small cities,[9] as well as large arenas and smaller gymnasiums and armories.',\n",
       " 'in 1950, the nba consolidated to eleven franchises, a process that continued until 1953â\\x80\\x9354, when the league reached its smallest size of eight franchises: the new york knicks, boston celtics, philadelphia warriors, minneapolis lakers, rochester royals, fort wayne pistons, tri-cities blackhawks, and syracuse nationals, all of which remain in the league today.',\n",
       " \"the process of contraction saw the league's smaller-city franchises move to larger cities.\",\n",
       " 'the hawks shifted from the tri-cities to milwaukee in 1951, and then to st. louis in 1955. the rochester royals moved from rochester, new york, to cincinnati in 1957 and the pistons moved from fort wayne, indiana, to detroit in 1957.\\r\\n\\r\\njapanese-american wataru misaka broke the nba color barrier in the 1947â\\x80\\x9348 season when he played for the new york knicks.',\n",
       " 'he remained the only non-white player in league history prior to the first african-american, harold hunter, signing with the washington capitols in 1950.',\n",
       " '[10][11] hunter was cut from the team during training camp,[10][12] but several african-american players did play in the league later that year, including chuck cooper with the celtics, nathaniel \"sweetwater\" clifton with the knicks, and earl lloyd with the washington capitols.',\n",
       " \"during this period, the minneapolis lakers, led by center george mikan, won five nba championships and established themselves as the league's first dynasty.\",\n",
       " '[13] to encourage shooting and discourage stalling, the league introduced the 24-second shot clock in 1954.',\n",
       " '[14] if a team does not attempt to score a field goal (or the ball fails to make contact with the rim) within 24 seconds of obtaining the ball, play is stopped and the ball given to its opponent.',\n",
       " \"celtics' dominance, league expansion and competition (1956â\\x80\\x931979)\\r\\nin 1957, rookie center bill russell joined the boston celtics, which already featured guard bob cousy and coach red auerbach, and went on to lead the franchise to eleven nba titles in thirteen seasons.\",\n",
       " 'center wilt chamberlain entered the league with the warriors in 1959 and became a dominant individual star of the 1960s, setting new single game records in scoring (100) and rebounding (55).',\n",
       " \"russell's rivalry with chamberlain became one of the greatest rivalries in the history of american team sports.\",\n",
       " 'bill russell defending against wilt chamberlain in 1966.\\r\\nthe 1960s were dominated by the celtics.',\n",
       " 'led by russell, cousy, and auerbach, boston won eight straight championships in the nba from 1959 to 1966. this championship streak is the longest in nba history.',\n",
       " 'they did not win the title in 1966â\\x80\\x9367, but regained it in the 1967â\\x80\\x9368 season and repeated in 1969. the domination totaled nine of the ten championship banners of the 1960s.',\n",
       " '[15]\\r\\n\\r\\nthrough this period, the nba continued to evolve with the shift of the minneapolis lakers to los angeles, the philadelphia warriors to san francisco, the syracuse nationals to philadelphia to become the philadelphia 76ers, and the st. louis hawks moving to atlanta, as well as the addition of its first expansion franchises.',\n",
       " 'the chicago packers (now washington wizards) became the ninth nba team in 1961. from 1966 to 1968, the league expanded from 9 to 14 teams, introducing the chicago bulls, seattle supersonics (now oklahoma city thunder), san diego rockets (who moved to houston four years later), milwaukee bucks, and phoenix suns.',\n",
       " 'in 1967, the league faced a new external threat with the formation of the american basketball association (aba).',\n",
       " 'the leagues engaged in a bidding war.',\n",
       " 'the nba landed the most important college star of the era, kareem abdul-jabbar (then known as lew alcindor).',\n",
       " \"however, the nba's leading scorer, rick barry, jumped to the aba, as did four veteran refereesâ\\x80\\x94norm drucker, earl strom, john vanak, and joe gushue.\",\n",
       " \"[16]\\r\\n\\r\\nin 1969, alan siegel, who oversaw the design of jerry dior's major league baseball logo a year prior, created the modern nba logo inspired by the mlb's.\",\n",
       " 'it incorporates the silhouette of jerry west, based on a photo by wen roberts, although nba officials denied a particular player as being its influence because, according to siegel, \"they want to institutionalize it rather than individualize it.',\n",
       " 'it\\'s become such a ubiquitous, classic symbol and focal point of their identity and their licensing program that they don\\'t necessarily want to identify it with one player.\"',\n",
       " 'the iconic logo debuted in 1971 (with a small change to the typeface on the nba wordmark in 2017) and would remain a fixture of the nba brand.',\n",
       " '[17][18]\\r\\n\\r\\nthe aba succeeded in signing a number of major stars in the 1970s, including julius erving of the virginia squires, in part because it allowed teams to sign college undergraduates.',\n",
       " 'the nba expanded rapidly during this period, one purpose being to tie up the most viable cities.',\n",
       " 'from 1966 to 1974, the nba grew from nine franchises to 18. in 1970, the portland trail blazers, cleveland cavaliers, and buffalo braves (now the los angeles clippers) all made their debuts expanding the league to 17.',\n",
       " '[19] the new orleans jazz (now in utah) came aboard in 1974 bringing the total to 18. following the 1976 season, the leagues reached a settlement that provided for the addition of four aba franchises to the nba, raising the number of franchises in the league at that time to 22. the franchises added were the san antonio spurs, denver nuggets, indiana pacers, and new york nets (now the brooklyn nets).',\n",
       " 'some of the biggest stars of this era were abdul-jabbar, barry, dave cowens, erving, elvin hayes, walt frazier, moses malone, artis gilmore, george gervin, dan issel, and pete maravich.',\n",
       " 'the end of the decade, however, saw declining tv ratings, low attendance and drug-related player issues â\\x80\\x93 both perceived and real â\\x80\\x93 that threatened to derail the league.',\n",
       " \"surging popularity (1979â\\x80\\x931998)\\r\\nthe league added the aba's three-point field goal beginning in 1979.\",\n",
       " '[20] that same year, rookies larry bird and magic johnson joined the boston celtics and los angeles lakers respectively, initiating a period of significant growth in fan interest in the nba.',\n",
       " '[21] the two had faced each other in the 1979 ncaa division i basketball championship game, and they later played against each other in three nba finals (1984, 1985, and 1987).',\n",
       " '[21] in the 10 seasons of the 1980s, johnson led the lakers to five titles[22] while bird led the celtics to three titles.',\n",
       " '[23] also in the early 1980s, the nba added one more expansion franchise, the dallas mavericks,[24] bringing the total to 23 teams.',\n",
       " 'later on, larry bird won the first three three-point shooting contests.',\n",
       " '[25] on february 1, 1984 david stern became commissioner of the nba.',\n",
       " '[26] stern has been recognized as playing a major role in the growth of the league during his career.',\n",
       " '[27][28]\\r\\n\\r\\n\\r\\nmichael jordan goes to the basket for a slam dunk in 1987.\\r\\nmichael jordan entered the league in 1984 with the chicago bulls, spurring more interest in the league.',\n",
       " '[29] in 1988 and 1989, four cities got their wishes as the charlotte hornets, miami heat, orlando magic, and minnesota timberwolves made their nba debuts, bringing the total to 27 teams.',\n",
       " '[30] the detroit pistons won the back-to-back nba championships in 1989 and 1990, led by coach chuck daly and guard isiah thomas.',\n",
       " '[31] jordan and scottie pippen led the bulls to two three-peats in eight years during the 1991â\\x80\\x931998 seasons.',\n",
       " '[32][33] hakeem olajuwon won back-to-back titles with the houston rockets in 1994 and 1995.',\n",
       " '[34]\\r\\n\\r\\nthe 1992 olympic basketball dream team, the first to use current nba stars, featured michael jordan as the anchor, along with bird, johnson, david robinson, patrick ewing, scottie pippen, clyde drexler, karl malone, john stockton, chris mullin, charles barkley, and star ncaa amateur christian laettner.',\n",
       " '[35] the team was elected to the naismith memorial basketball hall of fame,[36] and 11 players [37] and three coaches have been elected to the hall of fame as individuals.',\n",
       " '[citation needed]\\r\\n\\r\\nin 1995, the nba expanded to canada with the addition of the vancouver grizzlies and the toronto raptors.',\n",
       " \"[38][39] in 1996, the nba created a women's league, the women's national basketball association (wnba).\",\n",
       " '[40]\\r\\n\\r\\nin 1998, the nba owners began a lockout that suspended all league business until a new labor agreement could be reached.',\n",
       " '[41] by the time the lockout was settled later that year, half the season was lost.',\n",
       " \"[42][41]\\r\\n\\r\\nlakers' and spurs' dynasties (1998â\\x80\\x932014)\\r\\nin 1999, the san antonio spurs became the first former aba team to win the nba championship.\",\n",
       " \"it was the team's first championship win.\",\n",
       " '[43]\\r\\n\\r\\nsince the breakup of the chicago bulls championship roster in the summer of 1998, the western conference has dominated.',\n",
       " 'the los angeles lakers of coach phil jackson and the san antonio spurs of gregg popovich combined to make 13 finals in 16 seasons, with 10 titles.',\n",
       " \"tim duncan and david robinson won the 1999 championship with the spurs, and shaquille o'neal and kobe bryant started the 2000s with three consecutive championships for the lakers.\",\n",
       " 'the spurs reclaimed the title in 2003 against the nets.',\n",
       " 'in 2004, the lakers returned to the finals, only to lose in five games to the detroit pistons.',\n",
       " \"the league's image was marred by a violent incident between players and fans in a november 2004 game between the indiana pacers and detroit pistons.\",\n",
       " 'in response, players were suspended for a total of 146 games with $11 million total lost in salary, and the league tightened security and limited the sale of alcohol.',\n",
       " \"kobe bryant defending lebron james in a february 2016 game between the los angeles lakers and the cleveland cavaliers\\r\\nafter the spurs took home the larry o'brien championship trophy in 2005, the 2006 finals featured two franchises making their inaugural finals appearances.\",\n",
       " \"the miami heat, led by their star shooting guard, dwyane wade, and shaquille o'neal, who had been traded from the lakers during summer 2004, won the series over the dallas mavericks in six after losing the first two games.\",\n",
       " 'the lakers/spurs dominance continued in 2007 with a four-game sweep by the spurs over the cleveland cavaliers, who were led by lebron james.',\n",
       " \"the 2008 finals saw a rematch of the league's highest profile rivalry, the boston celtics and los angeles lakers, with the celtics winning, for their 17th championship, thanks to their new big three of paul pierce, ray allen, and kevin garnett.\",\n",
       " 'in 2009, kobe bryant and the lakers returned to the finals, this time defeating the dwight howard-led orlando magic.',\n",
       " \"bryant won his first bill russell nba finals most valuable player award in his 13th season after leading the lakers to their first nba championship since the departure of shaquille o'neal.\",\n",
       " '[44]\\r\\n\\r\\nthe 2010 nba all-star game was held at cowboys stadium in front of the largest crowd ever, 108,713.',\n",
       " '[45] at the end of that season, the celtics and the lakers renewed their rivalry from 2008 when they met again in the nba finals for a record 12th time.',\n",
       " 'the lakers won the title by winning game 7, 83â\\x80\\x9379.',\n",
       " '[46] before the start of the 2010â\\x80\\x9311 season the nba had an exciting summer with one of the most anticipated free agent classes of all time.',\n",
       " 'two free agents signed, and one resigned, with the miami heat, leading to a season that was heavily centered on their eventual success or failure at taking home the championship.',\n",
       " 'the heat, led by lebron james, dwyane wade, and chris bosh, did in fact make the finals against the dallas mavericks, in a rematch for the franchises of the 2006 finals.',\n",
       " 'the mavericks, led by dirk nowitzki (the eventual nba finals mvp), took the series in six games.',\n",
       " \"this was the mavericks' first title.\",\n",
       " 'veterans shawn marion, jason kidd, jason terry, and peja stojakoviä\\x87 celebrated their first nba championship.',\n",
       " 'on july 1, 2011, at 12:01 am, the nba announced another lockout.',\n",
       " '[47] after the first few weeks of the season were canceled, the players and owners ratified a new collective bargaining agreement on december 8, 2011, setting up a shortened 66-game season.',\n",
       " \"[48] following the shortened season, the miami heat made a return to the finals with the trio of dwyane wade, lebron james, and chris bosh against oklahoma city thunder's kevin durant, russell westbrook, and james harden.\",\n",
       " 'the heat went on to defeat the thunder in five games, capturing their second nba title in six years.',\n",
       " 'their success would continue into the following season, which concluded with their victory over the san antonio spurs in the 2013 nba finals.',\n",
       " \"the two teams would meet for a rematch in the following year's finals, where the spurs defeated the heat in five games.\",\n",
       " 'off the court, commissioner david stern retired on february 1, 2014, 30 years to the day after taking office.',\n",
       " 'he was succeeded by his deputy, adam silver.',\n",
       " 'modern era (2014â\\x80\\x93present)\\r\\nafter four seasons with the miami heat, lebron james returned to ohio upon the 2014â\\x80\\x9315 season to once again play for the cleveland cavaliers.',\n",
       " 'he became the head of the team and led them to their second finals appearance with the help of kyrie irving and kevin love.',\n",
       " 'the golden state warriors defeated the cavaliers in six games, led by stephen curry and klay thompson, also known as the splash brothers.',\n",
       " 'the following year, the warriors obtained the best season record in nba history by win percentage, further establishing their dominance within the league.',\n",
       " '[49] the 2016 nba finals became a rematch between the two teams.',\n",
       " 'it showed the cavaliers win their first nba championship as well as become the first team to return from a 3â\\x80\\x931 series deficit in the finals.',\n",
       " '[50] in the 2016â\\x80\\x9317 season, the warriors benefited from the recruitment of kevin durant, who had joined the team as a free agent in 2016. he became the most valuable player of the 2017 nba finals and led the team to another championship victory in five games over the cavaliers, then again in 2018 when the warriors won in a four-game sweep against the cavaliers.',\n",
       " 'during free agency in 2018, lebron james made the decision to sign with the los angeles lakers.',\n",
       " 'the cavaliers were unable to perform in the 2018â\\x80\\x9319 season, finishing second to last in their conference after four consecutive finals appearances.',\n",
       " 'however, the warriors once again returned to the finals for the fifth straight year where they faced the toronto raptors, a team that had never previously made it to the finals.',\n",
       " 'led by kawhi leonard, the raptors won their first nba championship, defeating the warriors in a total of six games.',\n",
       " '[51]\\r\\n\\r\\non march 11, 2020, following concerns from local governments and public health authorities and institutions over the coronavirus pandemic, the league held a conference call among the nba owners regarding the formulation of a plan should the disease become more serious.',\n",
       " 'the same day, the oklahoma city thunder postponed their game and the warriors cancelled all home games in the foreseeable future.',\n",
       " 'eventually, the nba suspended the remainder of its season \"until further notice\" after utah jazz center rudy gobert tested positive for the coronavirus.',\n",
       " \"[52][53] after the suspension of the season, the dallas mavericks' owner mark cuban started off the initiative of helping pay arena workers by setting up a payment procedure for the hourly workers, which was also joined by players and other nba personnel.\",\n",
       " '[54]\\r\\n\\r\\ninternational influence\\r\\nfurther information: list of foreign nba players\\r\\nfollowing pioneers like vlade divac (serbia) and draå¾en petroviä\\x87 (croatia) who joined the nba in the late 1980s, an increasing number of international players have moved directly from playing elsewhere in the world to starring in the nba.',\n",
       " 'since 2006, the nba has faced euroleague teams in exhibition matches in the nba europe live tour, and since 2009, in the euroleague american tour.',\n",
       " 'the 2013â\\x80\\x9314 season opened with a record 92 international players on the opening night rosters, representing 39 countries and comprising over 20% of the league.',\n",
       " '[55] the beginning of the 2017â\\x80\\x9318 season saw a record 108 international players representing 42 different countries marking 4 consecutive years of at least 100 international players and each team having at least one international player.',\n",
       " '[56] in 2018, the phoenix suns hired serbian coach igor kokoå¡kov as their new head coach, replacing canadian interim coach jay triano, making kokoå¡kov the first european coach to become a head coach for a team in the nba.',\n",
       " 'other developments\\r\\nin 2001, an affiliated minor league, the national basketball development league, now called the nba g league, was created.',\n",
       " '[57] before the league was started.',\n",
       " \"two years after the hornets' move to new orleans, the nba returned to north carolina, as the charlotte bobcats were formed as an expansion team in 2004.\\r\\n\\r\\nthe hornets temporarily moved to oklahoma city in 2005 for two seasons because of damage caused by hurricane katrina.\",\n",
       " 'the team returned to new orleans in 2007.\\r\\n\\r\\na new official game ball was introduced on june 28, 2006, for the 2006â\\x80\\x9307 season, marking the first change to the ball in over 35 years and only the second ball in 60 seasons.',\n",
       " '[58] manufactured by spalding, the new ball featured a new design and new synthetic material that spalding claimed offered a better grip, feel, and consistency than the original ball.',\n",
       " 'however, many players were vocal in their disdain for the new ball, saying that it was too sticky when dry, and too slippery when wet.',\n",
       " 'commissioner stern announced on december 11, 2006, that beginning january 1, 2007, the nba would return to the traditional leather basketball in use prior to the 2006â\\x80\\x9307 season.',\n",
       " 'the change was influenced by frequent player complaints and confirmed hand injuries (cuts) caused by the microfiber ball.',\n",
       " \"[59] the players' association had filed a suit on behalf of the players against the nba over the new ball.\",\n",
       " '[60] as of the 2017â\\x80\\x9318 season, the nba team jerseys are manufactured by nike, replacing the previous supplier, adidas.',\n",
       " 'all teams will wear jerseys with the nike logo except the charlotte hornets, whose jerseys will instead have the jumpman logo associated with longtime nike endorser michael jordan, who owns the hornets.',\n",
       " '[61]\\r\\n\\r\\nthe federal bureau of investigation (fbi) began an investigation on july 19, 2007, over allegations that veteran nba referee tim donaghy bet on basketball games he officiated over the past two seasons and that he made calls affecting the point spread in those games.',\n",
       " '[62] on august 15, 2007, donaghy pleaded guilty to two federal charges related to the investigation.',\n",
       " 'donaghy claimed in 2008 that certain referees were friendly with players and \"company men\" for the nba, and he alleged that referees influenced the outcome of certain playoff and finals games in 2002 and 2005. nba commissioner david stern denied the allegations and said donaghy was a convicted felon and a \"singing, cooperating witness\".',\n",
       " '[63] donaghy served 15 months in prison and was released in november 2009.',\n",
       " \"[64] according to an independent study by ronald beech of game 6 of the 2002 western conference finals between the los angeles lakers and sacramento kings, although the refs increased the lakers' chances of winning through foul calls during the game, there was no collusion to fix the game.\",\n",
       " 'on alleged \"star treatment\" during game 6 by the referees toward certain players, beech claimed, \"there does seem to be issues with different standards and allowances for different players.\"',\n",
       " '[65]\\r\\n\\r\\nthe nba board of governors approved the request of the seattle supersonics to move to oklahoma city on april 18, 2008.',\n",
       " \"[66] the team, however, could not move until it had settled a lawsuit filed by the city of seattle, which was intended to keep the supersonics in seattle for the remaining two seasons of the team's lease at keyarena.\",\n",
       " \"following a court case, the city of seattle settled with the ownership group of the supersonics on july 2, 2008, allowing the team to move to oklahoma city immediately in exchange for terminating the final two seasons of the team's lease at keyarena.\",\n",
       " '[67] the oklahoma city thunder began playing in the 2008â\\x80\\x9309 season.',\n",
       " 'the first outdoor game in the modern era of the league was played at the indian wells tennis garden on october 11, 2008, between the phoenix suns and the denver nuggets.',\n",
       " '[68]\\r\\n\\r\\na referee lockout began on september 1, 2009, when the contract between the nba and its referees expired.',\n",
       " 'the first preseason games were played on october 1, 2009, and replacement referees from the wnba and nba development league were used, the first time replacement referees had been used since the beginning of the 1995â\\x80\\x9396 season.',\n",
       " 'the nba and the regular referees reached a deal on october 23, 2009.',\n",
       " '[69][70]\\r\\n\\r\\nthe first official nba league games on european ground took place in 2011. in two matchups, the new jersey nets faced the toronto raptors at the o2 arena in london in front of over 20,000 fans.',\n",
       " 'the 2011â\\x80\\x9312 nba season, scheduled to begin november 1, 2011, with a matchup between the defending champion dallas mavericks and the chicago bulls, was postponed due to a labor dispute.',\n",
       " 'the lockout officially ended on december 8, 2011, when players and owners ratified a new collective bargaining agreement, and the season began on christmas day.',\n",
       " 'after the 2012â\\x80\\x9313 season, the new orleans hornets were renamed the pelicans.',\n",
       " '[71] during the 2013â\\x80\\x9314 season, stern retired as commissioner after 30 years, and deputy commissioner adam silver ascended to the position of commissioner.',\n",
       " \"during that season's playoffs, the bobcats officially reclaimed the hornets name, and by agreement with the league and the pelicans, also received sole ownership of all history, records, and statistics from the pelicans' time in charlotte.\",\n",
       " 'as a result, the hornets are now officially considered to have been founded in 1988, suspended operations in 2002, and resumed in 2004 as the bobcats, while the pelicans are officially treated as a 2002 expansion team.',\n",
       " '[72] (this is somewhat similar to the relationship between the cleveland browns and baltimore ravens in the nfl.)',\n",
       " 'donald sterling, who was then-owner of the los angeles clippers, received a lifetime ban from the nba on april 29, 2014 after racist remarks he made became public.',\n",
       " 'sterling was also fined us$2.5 million, the maximum allowed under the nba constitution.',\n",
       " '[73]\\r\\n\\r\\nbecky hammon was hired by the san antonio spurs on august 5, 2014, as an assistant coach, becoming the second female coach in nba history but the first full-time coach.',\n",
       " '[74][75] this also makes her the first full-time female coach in any of the four major professional sports in north america.',\n",
       " '[75]\\r\\n\\r\\nthe nba announced on april 15, 2016, that it would allow all 30 of its teams to sell corporate sponsor advertisement patches on official game uniforms, beginning with the 2017â\\x80\\x9318 season.',\n",
       " \"the sponsorship advertisement patches would appear on the left front of jerseys, opposite nike's logo, marking the first time a manufacturer's logo would appear on nba jerseys, and would measure approximately 2.5 by 2.5 inches.\",\n",
       " 'the nba would become the first major north american professional sports league to allow corporate sponsorship logos on official team uniforms, and the last to have a uniform manufacturer logo appear on its team uniforms.',\n",
       " '[76] the first team to announce a jersey sponsorship was the philadelphia 76ers, who agreed to a deal with stubhub.',\n",
       " '[77]\\r\\n\\r\\non july 6, 2017, the nba unveiled an updated rendition of its logo; it was largely identical to the previous design, except with revised typography and a \"richer\" color scheme.',\n",
       " 'the league began to phase in the updated logo across its properties during the 2017 nba summer league, but it will not immediately be used on equipment or uniforms due to lead time.',\n",
       " '[78]\\r\\n\\r\\nthe nba also officially released new nike uniforms for all 30 teams beginning with the 2017â\\x80\\x9318 season.',\n",
       " 'the league eliminated \"home\" and \"away\" uniform designations.',\n",
       " 'instead, each team would have four or six uniforms: the \"association\" edition, which is the team\\'s white uniform, the \"icon\" edition, which is the team\\'s color uniform, and the \"statement\" and \"city\" uniforms, which most teams use as an alternate uniform.',\n",
       " '[79] in 2018, the nba also released the \"earned\" uniform.']"
      ]
     },
     "execution_count": 54,
     "metadata": {},
     "output_type": "execute_result"
    }
   ],
   "source": [
    "sentance_tokenize(\"who is amit pathania\")"
   ]
  },
  {
   "cell_type": "code",
   "execution_count": 55,
   "metadata": {},
   "outputs": [],
   "source": [
    "# a = prediction(user_response)\n",
    "# raw = data[a].lower()\n",
    "# sent_tokens = nltk.sent_tokenize(raw)\n",
    "# word_tokens = nltk.word_tokenize(raw)"
   ]
  },
  {
   "cell_type": "code",
   "execution_count": 56,
   "metadata": {},
   "outputs": [],
   "source": [
    "# data = []\n",
    "# sent_tokens = []\n",
    "# word_tokens = []\n",
    "# for i in range(len(info.target_names)):\n",
    "#     # Convert the data into lower case\n",
    "#     data.append(info.data[i].lower())\n",
    "#     # Applying sentence tokenize on data\n",
    "#     sent_tokens.append(nltk.sent_tokenize(data[i]))\n",
    "#     # Applying word tokenize on data\n",
    "#     word_tokens.append(nltk.word_tokenize(data[i]))"
   ]
  },
  {
   "cell_type": "code",
   "execution_count": null,
   "metadata": {},
   "outputs": [],
   "source": []
  },
  {
   "cell_type": "code",
   "execution_count": 57,
   "metadata": {},
   "outputs": [],
   "source": [
    "lemmer = nltk.stem.WordNetLemmatizer()\n",
    "def lemTokens(token):\n",
    "    return [lemmer.lemmatize(i) for i in token]\n",
    "remove_punch_dict = dict((ord(punch), None) for punch in string.punctuation)\n",
    "def lemm_normalize(text):\n",
    "    return lemTokens(nltk.word_tokenize(text.lower().translate(remove_punch_dict)))"
   ]
  },
  {
   "cell_type": "code",
   "execution_count": 58,
   "metadata": {},
   "outputs": [],
   "source": [
    "greeting_input = (\"hello\", \"hi\", \"greetings\", \"sup\", \"what's up\",\"hey\",)\n",
    "greeting_output = [\"hi\", \"hey\", \"*nods*\", \"hi there\", \"hello\", \"I am glad! You are talking to me\"]\n",
    "def greeting(sentence):\n",
    "    for word in sentence.split():\n",
    "        if word.lower() in greeting_input:\n",
    "            return random.choice(greeting_output)"
   ]
  },
  {
   "cell_type": "code",
   "execution_count": 59,
   "metadata": {},
   "outputs": [],
   "source": [
    "import string\n",
    "from nltk.corpus import stopwords\n",
    "s_words = ['arent', 'couldnt', 'didnt', 'doe', 'doesnt', 'dont', 'ha', 'hadnt', 'hasnt', 'havent', \n",
    "           'isnt', 'mightnt', 'mustnt', 'neednt', 'shant', 'shes', 'shouldnt',\n",
    "           'shouldve', 'thatll', 'wa', 'wasnt', 'werent', 'wont', 'wouldnt', 'youd', 'youll', 'youre', 'youve']\n",
    "stop_words = stopwords.words(\"english\")\n",
    "punctuations = list(string.punctuation)\n",
    "stops = stop_words + punctuations + s_words\n"
   ]
  },
  {
   "cell_type": "code",
   "execution_count": 60,
   "metadata": {},
   "outputs": [],
   "source": [
    "def response(user_response):\n",
    "    robo_response=''\n",
    "    sent_tokens.append(user_response)\n",
    "    TfidfVec = TfidfVectorizer(tokenizer = lemm_normalize, stop_words = stops)\n",
    "    tfidf = TfidfVec.fit_transform(sent_tokens)\n",
    "    vals = cosine_similarity(tfidf[-1], tfidf)\n",
    "    idx=vals.argsort()[0][-2]\n",
    "    flat = vals.flatten()\n",
    "    flat.sort()\n",
    "    req_tfidf = flat[-2]\n",
    "    if(req_tfidf==0):\n",
    "        robo_response=robo_response+\"I am sorry! I don't understand you\"\n",
    "        return robo_response\n",
    "    else:\n",
    "        robo_response = robo_response+sent_tokens[idx]\n",
    "        return robo_response"
   ]
  },
  {
   "cell_type": "code",
   "execution_count": 61,
   "metadata": {},
   "outputs": [
    {
     "name": "stdout",
     "output_type": "stream",
     "text": [
      "ROBO: My name is Robo. I will answer your queries about Chatbots. If you want to exit, type Bye!\n",
      "User: \n",
      "ROBO: I am sorry! I don't understand you\n",
      "User: \n",
      "ROBO: I am sorry! I don't understand you\n",
      "User: \n",
      "ROBO: I am sorry! I don't understand you\n",
      "User: \n",
      "ROBO: I am sorry! I don't understand you\n",
      "User: bye]\n",
      "ROBO: I am sorry! I don't understand you\n",
      "User: bye\n",
      "ROBO: Bye! take care..\n"
     ]
    }
   ],
   "source": [
    "flag=True\n",
    "print(\"ROBO: My name is Robo. I will answer your queries about Chatbots. If you want to exit, type Bye!\")\n",
    "while(flag==True):\n",
    "    user_response = input(\"User: \")\n",
    "    sent_tokens = sentance_tokenize(user_response)\n",
    "    user_response=user_response.lower()\n",
    "    if(user_response!='bye'):\n",
    "        if(user_response=='thanks' or user_response=='thank you' ):\n",
    "            flag=False\n",
    "            print(\"ROBO: You are welcome..\")\n",
    "        else:\n",
    "            if(greeting(user_response)!=None):\n",
    "                print(\"ROBO: \"+greeting(user_response))\n",
    "            else:\n",
    "                print(\"ROBO: \",end=\"\")\n",
    "                print(response(user_response))\n",
    "                sent_tokens.remove(user_response)\n",
    "    else:\n",
    "        flag=False\n",
    "        print(\"ROBO: Bye! take care..\")"
   ]
  },
  {
   "cell_type": "code",
   "execution_count": null,
   "metadata": {},
   "outputs": [],
   "source": []
  },
  {
   "cell_type": "code",
   "execution_count": null,
   "metadata": {},
   "outputs": [],
   "source": []
  },
  {
   "cell_type": "code",
   "execution_count": null,
   "metadata": {},
   "outputs": [],
   "source": []
  }
 ],
 "metadata": {
  "kernelspec": {
   "display_name": "Python 3",
   "language": "python",
   "name": "python3"
  },
  "language_info": {
   "codemirror_mode": {
    "name": "ipython",
    "version": 3
   },
   "file_extension": ".py",
   "mimetype": "text/x-python",
   "name": "python",
   "nbconvert_exporter": "python",
   "pygments_lexer": "ipython3",
   "version": "3.6.8"
  }
 },
 "nbformat": 4,
 "nbformat_minor": 4
}
